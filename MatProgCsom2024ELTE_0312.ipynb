{
 "cells": [
  {
   "cell_type": "markdown",
   "id": "166e0c37",
   "metadata": {},
   "source": [
    "# LP és MIP feladatok megoldása Pythonnal"
   ]
  },
  {
   "cell_type": "markdown",
   "id": "b8229133",
   "metadata": {},
   "source": [
    "## Lineáris és egészértékű programozás\n",
    "\n",
    "__Lineáris programozás:__ Lineáris függvény optimalizása lineáris feltételek mellett. Legyen $A\\in\\mathbb{R}^{n\\times n}$ feltételi mátrix, $b\\in\\mathbb{R}^m$ korlátozóvektor és $c\\in\\mathbb{R}^n$ célfüggvény. Olyan $x\\in\\mathbb{R}^n$ vektort keresünk, ami a feltételrendszert kielégítő vektorok közül a célfüggvény szerint maximális. Az $x_i$ változókat __döntési változónak__ hívjuk. A primál lineáris program (**LP**) az alábbi:\n",
    "\n",
    "\\begin{equation}\n",
    "    \\begin{array}{rrcl}\n",
    "        \\max & cx\\\\\n",
    "        \\mathrm{s.t.} &Ax &\\leq &b\\\\\n",
    "        &x&\\geq&0.\n",
    "    \\end{array}\n",
    "\\end{equation}\n",
    "\n",
    "Erre gondolhatunk a következő formában is:\n",
    "\n",
    "\\begin{equation}\n",
    "    \\begin{array}{rrcll}\n",
    "        \\max & \\sum_{j=1}^nc_jx_j\\\\\n",
    "        \\mathrm{s.t.} &\\sum_{j=1}^na_{ij}x_j &\\leq &b_i&\\forall i=1,\\dots,m\\\\\n",
    "        &x_j&\\geq&0&\\forall j=1,\\dots,n.\n",
    "    \\end{array}\n",
    "\\end{equation}\n",
    "\n",
    "Ekkor az egyenlőtlenségek (hiper-)féltereket jelentenek, ezek metszete az a halmaz, amely felett keressük a célfüggvény optimumát. Ezt primál poliédernek nevezzük.A fenti program duálisa:\n",
    "\n",
    "\\begin{equation}\n",
    "    \\begin{array}{rrcl}\n",
    "        \\min & yb\\\\\n",
    "        \\mathrm{s.t.} &yA &\\geq &c\\\\\n",
    "        &y&\\geq&0,\n",
    "    \\end{array}\n",
    "\\end{equation}\n",
    "\n",
    "ahol $y\\in\\mathbb{R}^m$. Ez is átírható szummás alakba:\n",
    "\\begin{equation}\n",
    "    \\begin{array}{rrcll}\n",
    "        \\min & \\sum_{i=1}^m y_ib_i\\\\\n",
    "        \\mathrm{s.t.} &\\sum_{i=1}^m y_ia_{ij} &\\geq &c_j& \\forall j=1,\\dots,n\\\\\n",
    "        &y_i&\\geq&0&\\forall i=1,\\dots,m.\n",
    "    \\end{array}\n",
    "\\end{equation}\n",
    "\n",
    "Az lineáris programozásra vonatkozó __dualitás tétel__ alapján ha a primál és duál közül az egyiknek van véges optimuma, akkor a másiknak is van ($x^*,y^*$), és ekkor\n",
    "\n",
    "$$\n",
    "    y^*b=cx^*.\n",
    "$$\n",
    "\n",
    "Az lineáris programozás geometriai értelmezésében tetszőleges lineáris célfüggvény esetén létezik olyan optimális megoldás, amely a poliéder csúcsa. Ez az alapja a **Simplex módszer**nek.\n",
    "\n",
    "__Egészértékű programozás:__ Az egészértékű programozás alatt a lineáris programozásnak azt a változatát értjük, amelyben néhány döntési változóra egészértékűséget követelünk meg. Például legyen $I\\subseteq 1,\\dots,n$, ekkor a következő optimalizálási feladat egy (vegyes) egészértékű program (**IP** vagy **MIP**):\n",
    "\n",
    "\\begin{equation}\n",
    "    \\begin{array}{rrcll}\n",
    "        \\max & \\sum_{j=1}^nc_jx_j\\\\\n",
    "        \\mathrm{s.t.} &\\sum_{j=1}^na_{ij}x_j &\\leq &b_i&\\forall i=1,\\dots,m\\\\\n",
    "        &x_j&\\geq&0&\\forall j=1,\\dots,n\\\\\n",
    "        &x_j&\\in&\\mathbb{Z}&\\forall j\\in I.\n",
    "    \\end{array}\n",
    "\\end{equation}\n",
    "\n",
    "__Algoritmusok:__\n",
    "\n",
    "Lineáris programozás:\n",
    "* Simplex módszer (primál, duál, különböző pivotálási szabályok)\n",
    "* Belsőpontos módszerek:\n",
    "  - Ellipsoid módszer\n",
    "  - Affin skálázás\n",
    "  - Barrier módszerek\n",
    "  \n",
    "Egészértékű programozás:\n",
    "* Branch-and-Bound\n",
    "* Vágósíkos eljárások\n",
    "* Branch-and-Cut\n",
    "* Branch-and-Price"
   ]
  },
  {
   "cell_type": "markdown",
   "id": "2b00e71e",
   "metadata": {},
   "source": [
    "\n",
    "## Solverek\n",
    "| Open source | Kereskedelmi | \n",
    "| :---:       | :---:        |\n",
    "| GLPK        | CPLEX        |\n",
    "| CLP         | Gurobi       |\n",
    "| CBC         | FICO Xpress  |\n",
    "| stb.        | stb.         |\n",
    "\n",
    "A legtöbb kereskedelmi solverhez elérhető ingyenes academic license."
   ]
  },
  {
   "cell_type": "markdown",
   "id": "f7009fb8",
   "metadata": {},
   "source": [
    "## Solverek használata Pythonban\n",
    "Pythonban solverek használatára négy példát fogunk nézni:\n",
    "* SciPy LP solverét\n",
    "* A solver API-ján keresztül\n",
    "* PyOmo-val\n",
    "* PuLP segítségével"
   ]
  },
  {
   "cell_type": "markdown",
   "id": "08446fd3",
   "metadata": {},
   "source": [
    "# SciPy LP solver\n",
    "\n",
    "A `scipy` package `optimize` moduljából a `linprog` függvényt használjuk. Mikor jó ez? Ha valaki olyan alakú feladatot akar megoldani, hogy\n",
    "\n",
    "\\begin{equation}\n",
    "    \\begin{array}{rrcl}\n",
    "        \\max & cx\\\\\n",
    "        \\mathrm{s.t.} &A_{\\leq}x &\\leq &b_{\\leq}\\\\\n",
    "        &A_=x&=&b_=\\\\\n",
    "        &x&\\geq&l \\\\\n",
    "        &x&\\leq&u,\n",
    "    \\end{array}\n",
    "\\end{equation}\n",
    "\n",
    "ahol az $A_\\leq,A_=$ feltételi mátrixok, $b_\\leq,b_=$ korlátozó vektorok, $l,u$ alsó és felső korlátok és $c$ költségfüggvény **explicit** adottak. \n",
    "\n",
    "A függvény bemenetként `numpy` arrayeket vár, és kimenetként egy dictionaryt ad vissza, amely a megoldásról tartalmaz adatokat ($x^*$ optimális megoldást, optimum értéket, iterációk számát stb.). A függvény hívásakor lehet a megoldási módszert is kiválasztani, itt lehet válogatni különböző simplex variácók közül illetve belső pontos módszer használata a default megoldási eljárás. (Az implementáció a HiGHS solveré.)\n",
    "\n",
    "Ez sajnos nem tud IP-t megoldani, azonban ennek a segítségével lehetséges például egy LP alapú Branch-and-Bound módszert készíteni.\n",
    "\n",
    "A függvény szignatúrája:\n",
    "```python\n",
    "scipy.optimize.linprog(c,\n",
    "                       A_ub=None,\n",
    "                       b_ub=None,\n",
    "                       A_eq=None,\n",
    "                       b_eq=None,\n",
    "                       bounds=None,\n",
    "                       method='interior-point',\n",
    "                       callback=None,\n",
    "                       options=None,\n",
    "                       x0=None)\n",
    "```\n",
    "Ehhez útmutató: https://docs.scipy.org/doc/scipy/reference/generated/scipy.optimize.linprog.html"
   ]
  },
  {
   "cell_type": "markdown",
   "id": "96cce89b",
   "metadata": {},
   "source": [
    "## Keverési feladat\n",
    "**A feladat:**\n",
    "Példaként egy keverési feladaton fogjuk megnézni, hogy hogyan kellene a SciPy LP solverével modellezni és megoldani.\n",
    "Tegyük fel, hogy egy macskatápot szeretnénk kikeverni.\n",
    "\n",
    "| Alapanyag    | Fehérje (g) | Zsír (g) | Rost (g) | Só (g) |\n",
    "| :-----       | :---------- | :------- | :------- | :----- |\n",
    "| Csirke (g)   | 0.1         | 0.08     | 0.001    | 0.002  |\n",
    "| Marha (g)    | 0.2         | 0.1      | 0.005    | 0.005  |\n",
    "| Birka (g)    | 0.15        | 0.11     | 0.003    | 0.007  |\n",
    "| Rizs (g)     | 0.000       | 0.01     | 0.1      | 0.002  |\n",
    "| Korpa (g)    | 0.04        | 0.01     | 0.15     | 0.008  |\n",
    "| Zselatin (g) | 0           | 0        | 0        | 0           |\n",
    "\n",
    "Az alapanyagok költsége:\n",
    "\n",
    "| &nbsp;  | Csirke (g) | Marha (g) | Birka (g) | Rizs (g) | Korpa (g) | Zselatin (g) |\n",
    "| ---  | :--------: | :-------: | :-------: | :------: | :-------: | :----------: |\n",
    "|Költség ($) | 0.013 | 0.008 | 0.010 | 0.002 | 0.005 | 0.001 |\n",
    "\n",
    "Tudjuk továbbá, hogy egy konzerv macskatáp pontosan 100 gram, és a tápanyagokból megfelelő mennyiséget tartalmaz, amit az alábbi táblázatban láthatunk:\n",
    "\n",
    "| Tápanyag | Mennyiség (g) |\n",
    "| -------  | :-----        |\n",
    "| Fehérje  | min. 8        |\n",
    "| Zsír     | min. 6        |\n",
    "| Rost     | max. 2        |\n",
    "| Só       | max. 0.4      |\n",
    "\n",
    "A cél elkészíteni egy keveréket az alapanyagokból, amely megfelel a fenti tápanyagkövetelményeknek, és a lehető legolcsóbb."
   ]
  },
  {
   "cell_type": "markdown",
   "id": "a8a1c1d5",
   "metadata": {},
   "source": [
    "**A modell:** Legyenek a döntési változóink $x_1,x_2,x_3,x_4,x_5,x_6$, ahol a változók jelentése az alábbi:\n",
    "\n",
    "| Változó | Alapanyag (g) |\n",
    "| ------- | :----------   |\n",
    "| $x_1$   | Csirke        |\n",
    "| $x_2$   | Marha         |\n",
    "| $x_3$   | Birka         |\n",
    "| $x_4$   | Rizs          |\n",
    "| $x_5$   | Korpa         |\n",
    "| $x_6$   | Zselatin      |\n",
    "\n",
    "Célunk a lehető legolcsóbban előállítani a macskatápot, ezért a célfüggvény\n",
    "\n",
    "$$\n",
    "    \\min 0.013 x_1+0.008 x_2 + 0.01 x_3+0.002 x_4+0.005 x_5+0.001 x_6.\n",
    "$$\n",
    "\n",
    "Tudjuk továbbá, hogy pontosan 100 g a nettó tömege egy konzerv tápnak, ezért azt az egyenletet felvehetjük a feltételeink listájába, hogy\n",
    "\n",
    "$$\n",
    "    x_1+x_2+x_3+x_4+x_5+x_6 = 100.\n",
    "$$\n",
    "\n",
    "Az alapanyagok tápanyagtartalma és a keverékre vonatkozó tápanyagkövetelmények alapján azt kapjuk, hogy a fehérjetartalmora vonatkozó korlát\n",
    "\n",
    "$$\n",
    "    0.1x_1+0.2x_2+0.15x_3+0.04x_5 \\geq 8,\n",
    "$$\n",
    "\n",
    "ahol a rizst és a zselatint kihagytam a korlátból, mivel a fehérjetartalmuk 0. A zsírtartalomra vonatkozó korlát\n",
    "\n",
    "$$\n",
    "    0.08x_1+0.1x_2+0.11x_3+0.01x_4+0.01x_5\\geq 6,\n",
    "$$\n",
    "\n",
    "a rosttartalomra vonatkozó korlát\n",
    "\n",
    "$$\n",
    "    0.001x_1+0.005x_2+0.003x_3+0.1x_4+0.15x_5\\leq 2,\n",
    "$$\n",
    "\n",
    "a sótartalomra vonatkozó korlát pedig\n",
    "\n",
    "$$\n",
    "    0.002x_1+0.005x_2+0.007x_3+0.002x_4+0.008x_5 \\leq 0.4.\n",
    "$$"
   ]
  },
  {
   "cell_type": "markdown",
   "id": "7f20b210",
   "metadata": {},
   "source": [
    "**Átírás mátrix alakra:** A `scipy.optimize.linprog` által támogatott mátrixos alakra átírjuk a fenti korlátokat. A célfüggvény:"
   ]
  },
  {
   "cell_type": "code",
   "execution_count": 12,
   "id": "88ccd00b",
   "metadata": {
    "ExecuteTime": {
     "end_time": "2021-10-07T07:33:02.904343Z",
     "start_time": "2021-10-07T07:33:02.888308Z"
    }
   },
   "outputs": [],
   "source": [
    "import numpy as np\n",
    "from scipy.optimize import linprog"
   ]
  },
  {
   "cell_type": "code",
   "execution_count": 42,
   "id": "d900dd0b",
   "metadata": {
    "ExecuteTime": {
     "end_time": "2021-10-07T07:33:02.936307Z",
     "start_time": "2021-10-07T07:33:02.904343Z"
    }
   },
   "outputs": [],
   "source": [
    "c = np.array([0.013, 0.008, 0.010, 0.002, 0.005, 0.001])"
   ]
  },
  {
   "cell_type": "markdown",
   "id": "945ddb1f",
   "metadata": {},
   "source": [
    "Az $A_=$ feltételi mátrix és a $b_=$ korlátozóvektor:"
   ]
  },
  {
   "cell_type": "code",
   "execution_count": 43,
   "id": "0cec2b5f",
   "metadata": {
    "ExecuteTime": {
     "end_time": "2021-10-07T07:33:02.984308Z",
     "start_time": "2021-10-07T07:33:02.972308Z"
    }
   },
   "outputs": [],
   "source": [
    "Aeq = np.array([[1,1,1,1,1,1]])\n",
    "beq = np.array([100])"
   ]
  },
  {
   "cell_type": "markdown",
   "id": "15218655",
   "metadata": {},
   "source": [
    "Az $A_\\leq$ feltételi mátrix létrehozásánál figyelnünk kell arra, hogy a függvény $A_\\leq x\\leq b_\\leq$ alakban várja a feltételeket, ezért azokat a sorokat, amelyekben $\\geq$ szerepel, meg kell szoroznunk $-1$-gyel:"
   ]
  },
  {
   "cell_type": "code",
   "execution_count": 69,
   "id": "83196ccc",
   "metadata": {
    "ExecuteTime": {
     "end_time": "2021-10-07T10:32:03.657903Z",
     "start_time": "2021-10-07T10:32:03.646800Z"
    }
   },
   "outputs": [],
   "source": [
    "Aieq = np.array([[-0.100, -0.200, -0.150,  0.000, -0.040,  0.000],\n",
    "                 [-0.080, -0.100, -0.110, -0.010, -0.010,  0.000],\n",
    "                 [ 0.001,  0.005,  0.003,  0.100,  0.150,  0.000],\n",
    "                 [ 0.002,  0.005,  0.007,  0.002,  0.008,  0.000]])\n",
    "\n",
    "bieq = np.array([-8.0,\n",
    "                 -6.0,\n",
    "                  2.0,\n",
    "                  0.4])"
   ]
  },
  {
   "cell_type": "markdown",
   "id": "6d735eee",
   "metadata": {},
   "source": [
    "Ezután nincs más dolgunk, mint odaadni a függvénynek mint input:"
   ]
  },
  {
   "cell_type": "code",
   "execution_count": 70,
   "id": "9198e906",
   "metadata": {
    "ExecuteTime": {
     "end_time": "2021-10-07T10:32:04.765454Z",
     "start_time": "2021-10-07T10:32:04.743385Z"
    }
   },
   "outputs": [
    {
     "data": {
      "text/plain": [
       "     con: array([6.29560759e-09])\n",
       "     fun: 0.5200000026527398\n",
       " message: 'Optimization terminated successfully.'\n",
       "     nit: 8\n",
       "   slack: array([3.99999998e+00, 8.83075391e-09, 1.69999997e+00, 9.99999972e-02])\n",
       "  status: 0\n",
       " success: True\n",
       "       x: array([8.63787793e-08, 5.99999994e+01, 5.64719718e-07, 2.01189816e-08,\n",
       "       2.26632479e-07, 3.99999997e+01])"
      ]
     },
     "execution_count": 70,
     "metadata": {},
     "output_type": "execute_result"
    }
   ],
   "source": [
    "blend = linprog(c, Aieq, bieq, Aeq, beq)\n",
    "blend"
   ]
  },
  {
   "cell_type": "markdown",
   "id": "3d7bfeca",
   "metadata": {},
   "source": [
    "Ez azt jelenti, hogy nagyjából 60 gram marhahús és 40 gram zselatin felhasználásával lehet a legolcsóbban, \\$0.52 dollárért előállítani egy konzerv macskatápot."
   ]
  },
  {
   "cell_type": "markdown",
   "id": "823904da",
   "metadata": {},
   "source": [
    "# Solver API (FICO Xpress)\n",
    "\n",
    "A legtöbb kereskedelmi és open source solvernek a funkcionalitását el tudjuk érni a népszerűbb programozási nyelveken (mint például C, C++, Java, Python stb.) keresztül is, úgynevezett API (Application Programming Interface). Ehhez szükséges általában, hogy telepítve legyen a solver és a solver és python kommunikációjához szükséges python csomag az adott számítógépre.\n",
    "\n",
    "Az előnye ennek, hogy maximálisan ki lehet használni a solver nyújtotta funkcionalitást, a hátránya pedig hogy ismerni kell hozzá a solver API-ját (ami solverenként eltérő lehet, kisebb-nagyobb hasonlóságokkal).\n",
    "\n",
    "Példaként a FICO Xpress solvert fogjuk megnézni (de nézhetnénk akár Gurobit, Cplexet vagy GLPK-t is).\n",
    "Ehhez útmutató: https://www.msi-jp.com/xpress/learning/square/01-python-interface.pdf\n",
    "\n",
    "Xpressben a modellt egy `problem` objektumban tároljuk, ami döntési változók és korlátok sokasága. Itt már nem kell törődnünk azzal, hogy megfelelő alakú mátrixként adjuk a solvernek a korlátjainkat, a korlátok mátrix-szá alakítását már a program végzi el helyettünk, ezzel sokkal kényelmesebb és rugalmasabb modellezést téve lehetővé. (Természetesen elfogad mátrix formában is feltételeket.) \n",
    "\n",
    "Lássuk az előző feladatot Xpress-szel megoldva!"
   ]
  },
  {
   "cell_type": "code",
   "execution_count": 15,
   "id": "fcbd0b20",
   "metadata": {
    "ExecuteTime": {
     "end_time": "2021-10-07T07:33:03.280308Z",
     "start_time": "2021-10-07T07:33:03.272307Z"
    }
   },
   "outputs": [],
   "source": [
    "# Adatok\n",
    "c = np.array([0.013, 0.008, 0.010, 0.002, 0.005, 0.001])\n",
    "\n",
    "Aeq = np.array([[1,1,1,1,1,1]])\n",
    "\n",
    "beq = np.array([100])\n",
    "\n",
    "Aieq = np.array([[-0.1, -0.2, -0.15, 0, -0.04, 0],\n",
    "                 [-0.08, -0.1 , -0.11, -0.01, -0.01, 0],\n",
    "                 [0.001, 0.005, 0.003, 0.1, 0.15, 0],\n",
    "                 [0.002, 0.005, 0.007, 0.002, 0.008, 0]])\n",
    "\n",
    "bieq = np.array([-8,\n",
    "                 -6,\n",
    "                  2,\n",
    "                  0.4])"
   ]
  },
  {
   "cell_type": "code",
   "execution_count": 18,
   "id": "24eec86b",
   "metadata": {
    "ExecuteTime": {
     "end_time": "2021-10-07T10:40:58.228591Z",
     "start_time": "2021-10-07T10:40:58.202241Z"
    }
   },
   "outputs": [
    {
     "name": "stdout",
     "output_type": "stream",
     "text": [
      "FICO Xpress v9.1.1, Hyper, solve started 8:47:10, Mar 12, 2024\n",
      "Heap usage: 386KB (peak 386KB, 312KB system)\n",
      "Minimizing LP noname using up to 8 threads and up to 15GB memory, with these control settings:\n",
      "OUTPUTLOG = 1\n",
      "Original problem has:\n",
      "         5 rows            6 cols           25 elements\n",
      "Presolved problem has:\n",
      "         5 rows            6 cols           25 elements\n",
      "Presolve finished in 0 seconds\n",
      "Heap usage: 387KB (peak 399KB, 312KB system)\n",
      "\n",
      "Coefficient range                    original                 solved        \n",
      "  Coefficients   [min,max] : [ 1.00e-03,  1.00e+00] / [ 4.00e-03,  1.00e+00]\n",
      "  RHS and bounds [min,max] : [ 4.00e-01,  1.00e+02] / [ 8.00e+00,  1.00e+02]\n",
      "  Objective      [min,max] : [ 1.00e-03,  1.30e-02] / [ 1.00e-03,  1.30e-02]\n",
      "Autoscaling applied standard scaling\n",
      "\n",
      " \n",
      "   Its         Obj Value      S   Ninf  Nneg   Sum Dual Inf  Time\n",
      "     0           .000000      D      3     0        .000000     0\n",
      "     2           .520000      D      0     0        .000000     0\n",
      "Uncrunching matrix\n",
      "Optimal solution found\n",
      "Dual solved problem\n",
      "  2 simplex iterations in 0.00 seconds at time 0\n",
      "\n",
      "Final objective                       : 5.200000000000000e-01\n",
      "  Max primal violation      (abs/rel) :       0.0 /       0.0\n",
      "  Max dual violation        (abs/rel) :       0.0 /       0.0\n",
      "  Max complementarity viol. (abs/rel) :       0.0 /       0.0\n"
     ]
    },
    {
     "data": {
      "text/plain": [
       "array([ 0., 60.,  0.,  0.,  0., 40.])"
      ]
     },
     "execution_count": 18,
     "metadata": {},
     "output_type": "execute_result"
    }
   ],
   "source": [
    "import xpress as xp\n",
    "\n",
    "# Létrehozom a probléma példányt\n",
    "prob = xp.problem()\n",
    "\n",
    "# Létrehozok változókat\n",
    "x = np.array([xp.var() for _ in range(6)])\n",
    "\n",
    "# Hozzáadom a problémához a változókat \n",
    "prob.addVariable(x)\n",
    "\n",
    "# Beállítom a célfüggvényt a költség minimalizálására\n",
    "prob.setObjective(xp.Dot(c, x), sense=xp.minimize)\n",
    "\n",
    "# Hozzáadom a nettó tömegre vonatkozó egyenletet mint korlát\n",
    "prob.addConstraint(xp.Dot(Aeq, x) == beq)\n",
    "\n",
    "# Hozzáadom a tápanyagtartalomra vonatkozó korlátokat\n",
    "prob.addConstraint(xp.Dot(Aieq, x) <= bieq)\n",
    "\n",
    "# Megoldom\n",
    "prob.solve()\n",
    "\n",
    "# Visszatérek a megoldással\n",
    "prob.getSolution(x)"
   ]
  },
  {
   "cell_type": "markdown",
   "id": "fab69f07",
   "metadata": {},
   "source": [
    "Mi történne, ha hozzá akarnék adni még egy olyan korlátot, hogy a marhahús és zselatin össztömege 100 gramban nem haladhatja meg a 90 gramot? Módosítanom kellene a kezdeti feltételi mátrixot, amihez már nem akarok nyúlni. Szerencsére hozzáadhatok még egy korlátot könnyedén:"
   ]
  },
  {
   "cell_type": "code",
   "execution_count": 19,
   "id": "edf046df",
   "metadata": {
    "ExecuteTime": {
     "end_time": "2021-10-07T10:43:40.929965Z",
     "start_time": "2021-10-07T10:43:40.909742Z"
    }
   },
   "outputs": [
    {
     "name": "stdout",
     "output_type": "stream",
     "text": [
      "FICO Xpress v9.1.1, Hyper, solve started 8:49:53, Mar 12, 2024\n",
      "Heap usage: 2659KB (peak 2659KB, 312KB system)\n",
      "Minimizing LP noname using up to 8 threads and up to 15GB memory, with these control settings:\n",
      "OUTPUTLOG = 1\n",
      "Original problem has:\n",
      "         6 rows            6 cols           27 elements\n",
      "Presolved problem has:\n",
      "         6 rows            6 cols           27 elements\n",
      "Presolve finished in 0 seconds\n",
      "Heap usage: 2659KB (peak 2659KB, 312KB system)\n",
      "\n",
      "Coefficient range                    original                 solved        \n",
      "  Coefficients   [min,max] : [ 1.00e-03,  1.00e+00] / [ 4.00e-03,  1.00e+00]\n",
      "  RHS and bounds [min,max] : [ 4.00e-01,  1.00e+02] / [ 8.00e+00,  1.00e+02]\n",
      "  Objective      [min,max] : [ 1.00e-03,  1.30e-02] / [ 1.00e-03,  1.30e-02]\n",
      "Autoscaling applied standard scaling\n",
      "\n",
      " \n",
      "   Its         Obj Value      S   Ninf  Nneg   Sum Dual Inf  Time\n",
      "     0           .520000      D      1     0        .000000     0\n",
      "     1           .523000      D      0     0        .000000     0\n",
      "Uncrunching matrix\n",
      "Optimal solution found\n",
      "Dual solved problem\n",
      "  1 simplex iterations in 0.00 seconds at time 0\n",
      "\n",
      "Final objective                       : 5.230000000000000e-01\n",
      "  Max primal violation      (abs/rel) :       0.0 /       0.0\n",
      "  Max dual violation        (abs/rel) :       0.0 /       0.0\n",
      "  Max complementarity viol. (abs/rel) :       0.0 /       0.0\n"
     ]
    },
    {
     "data": {
      "text/plain": [
       "array([ 0., 59.,  0., 10.,  0., 31.])"
      ]
     },
     "execution_count": 19,
     "metadata": {},
     "output_type": "execute_result"
    }
   ],
   "source": [
    "# Hozzáadok egy új korlátot\n",
    "prob.addConstraint(x[1]+x[5] <= 90)\n",
    "\n",
    "# És egoldom újra\n",
    "prob.solve()\n",
    "prob.getSolution(x)"
   ]
  },
  {
   "cell_type": "markdown",
   "id": "6980ad5e",
   "metadata": {},
   "source": [
    "Sőt, a változókat nem kötelező tömbben vagy listában tárolni, bármilyen iterálható objektumban (vagy akár önállóan is) elérhetők. A fenti példát átírom egy sokkal átláthatóbb alakra:"
   ]
  },
  {
   "cell_type": "code",
   "execution_count": 20,
   "id": "18b22d43",
   "metadata": {
    "ExecuteTime": {
     "end_time": "2021-10-07T10:49:09.698553Z",
     "start_time": "2021-10-07T10:49:09.668318Z"
    }
   },
   "outputs": [
    {
     "name": "stdout",
     "output_type": "stream",
     "text": [
      "FICO Xpress v9.1.1, Hyper, solve started 8:54:17, Mar 12, 2024\n",
      "Heap usage: 387KB (peak 387KB, 314KB system)\n",
      "Minimizing LP noname using up to 8 threads and up to 15GB memory, with these control settings:\n",
      "OUTPUTLOG = 1\n",
      "Original problem has:\n",
      "         5 rows            6 cols           25 elements\n",
      "Presolved problem has:\n",
      "         5 rows            6 cols           25 elements\n",
      "Presolve finished in 0 seconds\n",
      "Heap usage: 388KB (peak 400KB, 314KB system)\n",
      "\n",
      "Coefficient range                    original                 solved        \n",
      "  Coefficients   [min,max] : [ 1.00e-03,  1.00e+00] / [ 4.00e-03,  1.00e+00]\n",
      "  RHS and bounds [min,max] : [ 4.00e-01,  1.00e+02] / [ 8.00e+00,  1.00e+02]\n",
      "  Objective      [min,max] : [ 1.00e-03,  1.00e-01] / [ 1.00e-03,  1.00e-01]\n",
      "Autoscaling applied standard scaling\n",
      "\n",
      " \n",
      "   Its         Obj Value      S   Ninf  Nneg   Sum Dual Inf  Time\n",
      "     0           .000000      D      3     0        .000000     0\n",
      "     2           .520000      D      0     0        .000000     0\n",
      "Uncrunching matrix\n",
      "Optimal solution found\n",
      "Dual solved problem\n",
      "  2 simplex iterations in 0.00 seconds at time 0\n",
      "\n",
      "Final objective                       : 5.200000000000000e-01\n",
      "  Max primal violation      (abs/rel) :       0.0 /       0.0\n",
      "  Max dual violation        (abs/rel) :       0.0 /       0.0\n",
      "  Max complementarity viol. (abs/rel) :       0.0 /       0.0\n"
     ]
    },
    {
     "data": {
      "text/plain": [
       "{'CSIRKE': 0.0,\n",
       " 'MARHA': 60.0,\n",
       " 'BIRKA': 0.0,\n",
       " 'RIZS': 0.0,\n",
       " 'KORPA': 0.0,\n",
       " 'ZSELATIN': 40.0}"
      ]
     },
     "execution_count": 20,
     "metadata": {},
     "output_type": "execute_result"
    }
   ],
   "source": [
    "# Létrehozom a változókat és egy dictionaryben eltárolom őket\n",
    "x = {\"CSIRKE\"    : xp.var(),\n",
    "     \"MARHA\"     : xp.var(),\n",
    "     \"BIRKA\"     : xp.var(),\n",
    "     \"RIZS\"      : xp.var(),\n",
    "     \"KORPA\"     : xp.var(),\n",
    "     \"ZSELATIN\"  : xp.var()}\n",
    "\n",
    "# Létrehozom a problémát\n",
    "prob = xp.problem(x)\n",
    "\n",
    "# Beállítom a célfüggvényt\n",
    "prob.setObjective(0.013*x[\"CSIRKE\"]+0.008*x[\"MARHA\"]+0.1*x[\"BIRKA\"]+0.002*x[\"RIZS\"]+0.002*x[\"KORPA\"]+0.001*x[\"ZSELATIN\"],\n",
    "                  sense=xp.minimize)\n",
    "\n",
    "# Hozzáadom a nettó tömegre vonatkozó korlátot\n",
    "prob.addConstraint(xp.Sum(x) == 100)\n",
    "\n",
    "# Hozzáadom a tápanyagtartalomra vonatkozó korlátokat\n",
    "prob.addConstraint(0.1*x[\"CSIRKE\"]+0.2*x[\"MARHA\"]+0.15*x[\"BIRKA\"]+0.04*x[\"KORPA\"] >= 8) # Fehérje\n",
    "\n",
    "prob.addConstraint(0.08*x[\"CSIRKE\"]+0.1*x[\"MARHA\"]+0.11*x[\"BIRKA\"]+0.01*x[\"RIZS\"]+0.01*x[\"KORPA\"] >= 6) # Zsír\n",
    "\n",
    "prob.addConstraint(0.001*x[\"CSIRKE\"]+0.005*x[\"MARHA\"]+0.003*x[\"BIRKA\"]+0.1*x[\"RIZS\"]+0.15*x[\"KORPA\"] <= 2) # Rost\n",
    "\n",
    "prob.addConstraint(0.002*x[\"CSIRKE\"]+0.005*x[\"MARHA\"]+0.007*x[\"BIRKA\"]+0.002*x[\"RIZS\"]+0.008*x[\"KORPA\"] <= 0.4) # Só\n",
    "\n",
    "# Megoldom\n",
    "prob.solve()\n",
    "\n",
    "# Visszaadom a megoldást\n",
    "prob.getSolution(x)"
   ]
  },
  {
   "cell_type": "markdown",
   "id": "bcb0dbe2",
   "metadata": {},
   "source": [
    "Eddig nem sok olyat láttunk, amit ne tudtunk volna kevésbé kényelmesen, de a scipy segítségével hasonlóan megoldani. (Nyilván nagyobb feladatpéldányokban már az LP megoldási ideje is sokkal rövidebb a kereskedelmi solverek esetén.)\n",
    "\n",
    "A legtöbb solver egészértékű programozási feladatot (IP) is tud kezelni, és különböző branch-elési és vágásgenerálási eljárások alkalmazásával sokkal hatékonyabban, mintha nekünk kellene megírni pl egy LP alapú B&B-t ahol csak az Xpress LP solverét használhatnánk.\n",
    "\n",
    "Nézzünk egy újabb példát. "
   ]
  },
  {
   "cell_type": "markdown",
   "id": "23a2239d",
   "metadata": {},
   "source": [
    "## Szendvicskészítési feladat\n",
    "**A feladat:** Tegyük fel, hogy szendvicseket akarunk készíteni, és tegyük fel továbbá, hogy kétféle szendvicset tudunk csinálni, továbbá a szükséges alapanyagokból véges sok áll csak a rendelkezésünkre (leszámítva mondjuk a kenyeret). Továbbá feltételezzük, hogy csak egész számú szendvics készítésére van módunk. \n",
    "\n",
    "A szendvicstípusok:\n",
    "\n",
    "| Típus | Sajt (szelet) | Sonka (szelet) | Szalámi (szelet) | Uborka (karika) | Paradicsok (karika) |\n",
    "| ----  | ------------- | -------------- | ---------------- | --------------- | ------------------- |\n",
    "| **1** | 4             | 1              | 5                | 1               | 0                   |\n",
    "| **2** | 3             | 3              | 2                | 0               | 1                   |\n",
    "\n",
    "Az alapanyagmennyiségek:\n",
    "\n",
    "| Alapanyag  | Mennyiség | Egység |\n",
    "| ---------  | --------- | ------ |\n",
    "| Sajt       | 141       | szelet |\n",
    "| Sonka      | 85        | szelet |\n",
    "| Szalámi    | 159       | szelet |\n",
    "| Uborka     | 35        | karika |\n",
    "| Paradicsom | 30        | karika |\n",
    "\n",
    "Ezen alapanyagokból szeretném a két szendvicstípusból a lehető legtöbbet elkészíteni."
   ]
  },
  {
   "cell_type": "markdown",
   "id": "6bafd905",
   "metadata": {},
   "source": [
    "**A modell:** Legyen $x_1, x_2$ az egyes és kettes típusú szendvicshez tartozó egészértékű döntési változók.\n",
    "\n",
    "A célfüggvény:\n",
    " \n",
    "$$\n",
    "    \\max x_1+x_2\n",
    "$$\n",
    "\n",
    "A korlátok az alapanyagok összmennyiségére vonatkoznak, így minden alapanyaghoz felírható egy egyenlőtlenség. A sajtból összesen 141 szelet van, az egyes típusú szendvics elhasznál szendvicsenként 4-et, a kettes 3-at\n",
    "\n",
    "$$\n",
    "    4x_1+3x_2 \\leq 141,\n",
    "$$\n",
    "\n",
    "a sonkából 85 szelet van, az egyes 1-et a kettes 3-at használ\n",
    "\n",
    "$$\n",
    "    x_1+3x_2 \\leq 85,\n",
    "$$\n",
    "\n",
    "a szalámiból 159 szelet van, az egyes 5-öt használ, a kettes 2-t\n",
    "\n",
    "$$\n",
    "    5x_1+2x_2 \\leq 159,\n",
    "$$\n",
    "\n",
    "az uborkából 35 karika van, és csak az egyes használja, szendvicsenként 1-et, míg a paradicsomból 30 karika van, és csak a kettes használja, szendvicsenként 1-et\n",
    "\n",
    "\\begin{equation}\n",
    "    \\begin{array}{rcl}\n",
    "        &x_1 &\\leq& 35 \\\\\n",
    "        &x_2 &\\leq& 30.\n",
    "    \\end{array}\n",
    "\\end{equation}\n",
    "\n",
    "A megoldása:"
   ]
  },
  {
   "cell_type": "code",
   "execution_count": 23,
   "id": "3845d350",
   "metadata": {
    "ExecuteTime": {
     "end_time": "2021-10-07T10:56:37.002304Z",
     "start_time": "2021-10-07T10:56:36.965939Z"
    }
   },
   "outputs": [
    {
     "name": "stdout",
     "output_type": "stream",
     "text": [
      "FICO Xpress v9.1.1, Hyper, solve started 9:06:16, Mar 12, 2024\n",
      "Heap usage: 385KB (peak 385KB, 338KB system)\n",
      "Maximizing MILP noname using up to 8 threads and up to 15GB memory, with these control settings:\n",
      "OUTPUTLOG = 1\n",
      "Original problem has:\n",
      "         3 rows            2 cols            6 elements         2 entities\n",
      "Presolved problem has:\n",
      "         3 rows            2 cols            6 elements         2 entities\n",
      "LP relaxation tightened\n",
      "Presolve finished in 0 seconds\n",
      "Heap usage: 414KB (peak 421KB, 338KB system)\n",
      "\n",
      "Coefficient range                    original                 solved        \n",
      "  Coefficients   [min,max] : [ 1.00e+00,  5.00e+00] / [ 5.00e-01,  1.50e+00]\n",
      "  RHS and bounds [min,max] : [ 3.00e+01,  1.59e+02] / [ 1.00e+00,  4.25e+01]\n",
      "  Objective      [min,max] : [ 1.00e+00,  1.00e+00] / [ 1.00e+00,  1.00e+00]\n",
      "Autoscaling applied standard scaling\n",
      "\n",
      "Will try to keep branch and bound tree memory usage below 8.3GB\n",
      " *** Solution found:     3.000000   Time:   0.00    Heuristic: T ***\n",
      " *** Solution found:    29.000000   Time:   0.00    Heuristic: e ***\n",
      "Starting concurrent solve with dual (1 thread)\n",
      "\n",
      " Concurrent-Solve,   0s\n",
      "            Dual        \n",
      "    objective   dual inf\n",
      " D  40.777778   .0000000\n",
      "------- optimal --------\n",
      "Concurrent statistics:\n",
      "      Dual: 2 simplex iterations, 0.00s\n",
      "Optimal solution found\n",
      " \n",
      "   Its         Obj Value      S   Ninf  Nneg   Sum Dual Inf  Time\n",
      "     2         40.777778      D      0     0        .000000     0\n",
      "Dual solved problem\n",
      "  2 simplex iterations in 0.00 seconds at time 0\n",
      "\n",
      "Final objective                       : 4.077777777777777e+01\n",
      "  Max primal violation      (abs/rel) :       0.0 /       0.0\n",
      "  Max dual violation        (abs/rel) :       0.0 /       0.0\n",
      "  Max complementarity viol. (abs/rel) :       0.0 /       0.0\n",
      "\n",
      "Starting root cutting & heuristics\n",
      "Deterministic mode with up to 1 additional thread\n",
      " \n",
      " Its Type    BestSoln    BestBound   Sols    Add    Del     Gap     GInf   Time\n",
      "a           31.000000    40.777778      3                 23.98%       0      0\n",
      "b           33.000000    40.777778      4                 19.07%       0      0\n",
      "g           35.000000    40.777778      5                 14.17%       0      0\n",
      "q           40.000000    40.777778      6                  1.91%       0      0\n",
      " *** Search completed ***\n",
      "Uncrunching matrix\n",
      "Final MIP objective                   : 4.000000000000000e+01\n",
      "Final MIP bound                       : 4.000000000000000e+01\n",
      "  Solution time / primaldual integral :      0.01s/ 36.879757%\n",
      "  Number of solutions found / nodes   :         6 /         1\n",
      "  Max primal violation      (abs/rel) :       0.0 /       0.0\n",
      "  Max integer violation     (abs    ) :       0.0\n"
     ]
    },
    {
     "data": {
      "text/plain": [
       "(19.0, 21.0)"
      ]
     },
     "execution_count": 23,
     "metadata": {},
     "output_type": "execute_result"
    }
   ],
   "source": [
    "# Létrehozom a két szendvicshez tartozó változókat\n",
    "x1 = xp.var(name=\"1.típus\",     # elnevezem a változót\n",
    "            vartype=xp.integer, # egészértékű legyen a változó\n",
    "            ub=35,              # a felső korlátja legyen 35\n",
    "            lb=0)               # az alsó korlátja legyen 0\n",
    "\n",
    "x2 = xp.var(name=\"2.típus\",\n",
    "            vartype=xp.integer,\n",
    "            ub=30,\n",
    "            lb=0)\n",
    "\n",
    "# Létrehozok egy problémapéldányt ezzel a két változóval\n",
    "prob = xp.problem(x1, x2)\n",
    "\n",
    "# Beállítom a célfüggvényt\n",
    "prob.setObjective(x1+x2, sense=xp.maximize)\n",
    "\n",
    "# Hozzáadom a korlátokat\n",
    "prob.addConstraint(4*x1+3*x2 <= 141) # Sajt\n",
    "prob.addConstraint(  x1+3*x2 <= 85)  # Sonka\n",
    "prob.addConstraint(5*x1+2*x2 <= 159) # Szalámi\n",
    "\n",
    "# Megoldom\n",
    "prob.solve()\n",
    "\n",
    "# Visszaadom a megoldást\n",
    "prob.getSolution(x1, x2)"
   ]
  },
  {
   "cell_type": "markdown",
   "id": "1c7f20fe",
   "metadata": {},
   "source": [
    "# Pyomo\n",
    "\n",
    "A Pyomo (*Python Optimizing Modeling Objects*) egy Python alapú optimalizálási modellező nyelv, lineáris és egészértékű programokon kívül még nagyon sokféle matematikai optimalizálási probléma modellezésére alkalmas.\n",
    "\n",
    "Honlap: http://www.pyomo.org/\n",
    "\n",
    "Dokumentáció: https://pyomo.readthedocs.io/en/stable/index.html"
   ]
  },
  {
   "cell_type": "markdown",
   "id": "7eb05193",
   "metadata": {},
   "source": [
    "Pyomo-ban kétféle modellt lehet készíteni, egyik a konkrét modell (`ConcreteModel`), másik az absztrakt modell (`AbstractModel`). A konkrét modell esetében az adatoknak, adatok számának, változók számának már a modell megalkotásakor rendelkezésre kell állnia, míg egy absztrakt modell ezeket paraméterként kezeli.\n",
    "\n",
    "A Pyomo nagyon hasonlít az algebrai modellező nyelvekre, mint az AMPL, GAMS, Mosel stb. Ez a szintaxison kívül abban nyilvánul meg, hogy a solver nem a Pyomohoz tartozik, hanem a Pyomo egy tőle független, külső (kereskedelmi vagy open source) solvert hív meg a megoldás megtalálásához.\n",
    "\n",
    "Amik egy modellhez tartozhatnak:\n",
    "* `Var`-ok\n",
    "* `Set`-ek\n",
    "* `Param`-ok\n",
    "* `Constraint`-ek\n",
    "* `Objective`"
   ]
  },
  {
   "cell_type": "markdown",
   "id": "17de4323",
   "metadata": {},
   "source": [
    "Nézzük meg az előző keverési feladatot konkrét modellként!"
   ]
  },
  {
   "cell_type": "code",
   "execution_count": 26,
   "id": "eb00fbf4",
   "metadata": {
    "ExecuteTime": {
     "end_time": "2021-10-07T11:08:58.886668Z",
     "start_time": "2021-10-07T11:08:58.639263Z"
    }
   },
   "outputs": [
    {
     "name": "stdout",
     "output_type": "stream",
     "text": [
      "Költség  : 0.52 $\n",
      "--------------------\n",
      "Összetétel\n",
      "Csirke   : 0.0 g\n",
      "Marha    : 60.0 g\n",
      "Birka    : 0.0 g\n",
      "Rizs     : 0.0 g\n",
      "Korpa    : 0.0 g\n",
      "Zselatin : 40.0 g\n",
      "--------------------\n",
      "Tápanyagtartalom\n",
      "Fehérje  : 12.0 g\n",
      "Zsír     : 6.0 g\n",
      "Rost     : 0.3 g\n",
      "Só       : 0.3 g\n"
     ]
    }
   ],
   "source": [
    "import pyomo.environ as pyo\n",
    "\n",
    "# Inicializálok egy konkrét modellt\n",
    "model = pyo.ConcreteModel()\n",
    "\n",
    "# Hozzáadok egy változót, amit a CSIRKE, MARHA ... stringekkel indexelek\n",
    "model.x = pyo.Var([\"CSIRKE\",\"MARHA\",\"BIRKA\",\"RIZS\",\"KORPA\",\"ZSELATIN\"], domain=pyo.NonNegativeReals)\n",
    "\n",
    "# Hozzáadom a költségfüggvényt\n",
    "model.cost = pyo.Objective(\n",
    "    expr = 0.013*model.x[\"CSIRKE\"]+0.008*model.x[\"MARHA\"]+0.1*model.x[\"BIRKA\"]+0.002*model.x[\"RIZS\"]+0.002*model.x[\"KORPA\"]+0.001*model.x[\"ZSELATIN\"])\n",
    "\n",
    "# Hozzáadom a nettó tömegre vonatkozó korlátot\n",
    "model.weight = pyo.Constraint(\n",
    "    expr = model.x[\"CSIRKE\"]+model.x[\"MARHA\"]+model.x[\"BIRKA\"]+model.x[\"RIZS\"]+model.x[\"KORPA\"]+model.x[\"ZSELATIN\"] == 100)\n",
    "\n",
    "# Hozzáadom a tápanyagtartalomra vonatkozó korlátokat\n",
    "model.protein = pyo.Constraint(\n",
    "    expr = 0.1*model.x[\"CSIRKE\"]+0.2*model.x[\"MARHA\"]+0.15*model.x[\"BIRKA\"]+0.04*model.x[\"KORPA\"] >= 8)\n",
    "\n",
    "model.fat = pyo.Constraint(\n",
    "    expr = 0.08*model.x[\"CSIRKE\"]+0.1*model.x[\"MARHA\"]+0.11*model.x[\"BIRKA\"]+0.01*model.x[\"RIZS\"]+0.01*model.x[\"KORPA\"] >= 6)\n",
    "\n",
    "model.fibre = pyo.Constraint(\n",
    "    expr = 0.001*model.x[\"CSIRKE\"]+0.005*model.x[\"MARHA\"]+0.003*model.x[\"BIRKA\"]+0.1*model.x[\"RIZS\"]+0.15*model.x[\"KORPA\"] <= 2)\n",
    "\n",
    "model.salt = pyo.Constraint(\n",
    "    expr = 0.002*model.x[\"CSIRKE\"]+0.005*model.x[\"MARHA\"]+0.007*model.x[\"BIRKA\"]+0.002*model.x[\"RIZS\"]+0.008*model.x[\"KORPA\"] <= 0.4)\n",
    "\n",
    "# Inicializálok egy solvert, ami az Xpresst fogja használni\n",
    "solver = pyo.SolverFactory(\"xpress\")\n",
    "\n",
    "# Megoldom a modellt\n",
    "solver.solve(model)\n",
    "\n",
    "# Kiírom az összetételt\n",
    "print(\"Költség  :\", model.cost(), \"$\")\n",
    "print(\"--------------------\")\n",
    "print(\"Összetétel\")\n",
    "print(\"Csirke   :\", model.x[\"CSIRKE\"](), \"g\")\n",
    "print(\"Marha    :\", model.x[\"MARHA\"](), \"g\")\n",
    "print(\"Birka    :\", model.x[\"BIRKA\"](), \"g\")\n",
    "print(\"Rizs     :\", model.x[\"RIZS\"](), \"g\")\n",
    "print(\"Korpa    :\", model.x[\"KORPA\"](), \"g\")\n",
    "print(\"Zselatin :\", model.x[\"ZSELATIN\"](), \"g\")\n",
    "print(\"--------------------\")\n",
    "print(\"Tápanyagtartalom\")\n",
    "print(\"Fehérje  :\", model.protein(), \"g\")\n",
    "print(\"Zsír     :\", model.fat(), \"g\")\n",
    "print(\"Rost     :\", model.fibre(), \"g\")\n",
    "print(\"Só       :\", model.salt(), \"g\")"
   ]
  },
  {
   "cell_type": "markdown",
   "id": "22065939",
   "metadata": {},
   "source": [
    "Most ugyanez absztrakt modellként:"
   ]
  },
  {
   "cell_type": "code",
   "execution_count": 27,
   "id": "5613ebcb",
   "metadata": {
    "ExecuteTime": {
     "end_time": "2021-10-07T11:23:10.934817Z",
     "start_time": "2021-10-07T11:23:10.914568Z"
    }
   },
   "outputs": [],
   "source": [
    "# Létrehozok egy absztrakt modellt\n",
    "model = pyo.AbstractModel()\n",
    "\n",
    "# Deklarálom a változók indexelésére használt halmazokat\n",
    "model.I  = pyo.Set() # Ingredients\n",
    "model.Nl = pyo.Set() # Nutrients with lower bound\n",
    "model.Nu = pyo.Set() # Nutrients with upper bound\n",
    "\n",
    "# Deklarálom a célfüggvényt mint paraméter\n",
    "model.c = pyo.Param(model.I)\n",
    "\n",
    "# Deklarálom az együtthatómátrixot és korlátozóvektort a tápanyagokhoz\n",
    "model.A = pyo.Param(model.I, model.Nl | model.Nu)\n",
    "model.b = pyo.Param(model.Nl | model.Nu)\n",
    "\n",
    "# Deklarálom a döntési változókat, amelyeket az I halmaz elemei fognak indexelni\n",
    "model.x = pyo.Var(model.I, domain=pyo.NonNegativeReals)\n",
    "\n",
    "# Definiálom, hogyan kell viselkednie a költségfüggvénynek\n",
    "def cost(m):\n",
    "    return pyo.summation(m.c, m.x)\n",
    "\n",
    "# Definiálom, hogyan kell viselkednie egy felső tápanyagkorlátnak\n",
    "def nutrient_upper_bounds(m, n):\n",
    "    return sum(m.A[i,n] * m.x[i] for i in m.I) <= m.b[n]\n",
    "\n",
    "# Definiálom, hogyan kell viselkednie egy alsó tápanyagkorlátnak\n",
    "def nutrient_lower_bounds(m, n):\n",
    "    return sum(m.A[i,n] * m.x[i] for i in m.I) >= m.b[n]\n",
    "    \n",
    "# Definiálom, hogyan kell viselkednie a nettó tömegre vonatkozó korlátnak\n",
    "def net_weight_rule(m):\n",
    "    return sum(m.x[i] for i in m.I) == 100\n",
    "\n",
    "# Beállítom a költségfüggvényt, használva a korábban definiált szabályt\n",
    "model.cost = pyo.Objective(rule=cost)\n",
    "\n",
    "# Beállítom az alsó és felső tápanyagkorlátokat az Nl és Nu halmazok minden elemére\n",
    "model.nutrientLBConstraint = pyo.Constraint(model.Nl, rule=nutrient_lower_bounds)\n",
    "model.nutrientUBConstraint = pyo.Constraint(model.Nu, rule=nutrient_upper_bounds)\n",
    "\n",
    "# Beállítom a nettó tömegre vonatkozó korlátot\n",
    "model.netWeightConstraint  = pyo.Constraint(rule=net_weight_rule)"
   ]
  },
  {
   "cell_type": "markdown",
   "id": "3aec6415",
   "metadata": {
    "ExecuteTime": {
     "end_time": "2021-10-07T07:11:40.500243Z",
     "start_time": "2021-10-07T07:11:40.495254Z"
    }
   },
   "source": [
    "Az absztrakt modellt példányosítani kell konkrét adatokkal, én a `nutrients.dat` fájlban tároltam el a tápérték információt. A `.dat` fileok szintaxisáról: https://pyomo.readthedocs.io/en/stable/working_abstractmodels/data/datfiles.html#"
   ]
  },
  {
   "cell_type": "code",
   "execution_count": 28,
   "id": "6a9322d1",
   "metadata": {
    "ExecuteTime": {
     "end_time": "2021-10-07T07:50:37.552446Z",
     "start_time": "2021-10-07T07:50:37.504406Z"
    }
   },
   "outputs": [
    {
     "name": "stdout",
     "output_type": "stream",
     "text": [
      "set I := CSIRKE MARHA BIRKA RIZS KORPA ZSELATIN;\n",
      "set Nl := feherje zsir;\n",
      "set Nu := rost so;\n",
      "\n",
      "param c :=\n",
      "    CSIRKE   0.013\n",
      "    MARHA    0.008\n",
      "    BIRKA    0.010\n",
      "    RIZS     0.002\n",
      "    KORPA    0.005\n",
      "    ZSELATIN 0.001;\n",
      "\n",
      "param A : feherje zsir rost so :=\n",
      "    CSIRKE   0.100 0.080 0.001 0.002\n",
      "    MARHA    0.200 0.100 0.005 0.005\n",
      "    BIRKA    0.150 0.110 0.003 0.007\n",
      "    RIZS     0.000 0.010 0.100 0.002\n",
      "    KORPA    0.040 0.010 0.150 0.008\n",
      "    ZSELATIN 0.000 0.000 0.000 0.000;\n",
      "\n",
      "param b :=\n",
      "    feherje  8\n",
      "    zsir     6\n",
      "    rost     2\n",
      "    so       0.4;\n"
     ]
    }
   ],
   "source": [
    "!type nutrients.dat"
   ]
  },
  {
   "cell_type": "code",
   "execution_count": 29,
   "id": "77043f2e",
   "metadata": {
    "ExecuteTime": {
     "end_time": "2021-10-07T11:23:14.358243Z",
     "start_time": "2021-10-07T11:23:14.136264Z"
    }
   },
   "outputs": [
    {
     "name": "stdout",
     "output_type": "stream",
     "text": [
      "WARNING: Extracting subsets for Set SetUnion_OrderedSet, which is a\n",
      "SetOperator other than a SetProduct.  Returning this set and not descending\n",
      "into the set operands.  To descend into this operator, specify\n",
      "'subsets(expand_all_set_operators=True)' or to suppress this warning, specify\n",
      "'subsets(expand_all_set_operators=False)'\n",
      "WARNING: Extracting subsets for Set SetUnion_OrderedSet, which is a\n",
      "SetOperator other than a SetProduct.  Returning this set and not descending\n",
      "into the set operands.  To descend into this operator, specify\n",
      "'subsets(expand_all_set_operators=True)' or to suppress this warning, specify\n",
      "'subsets(expand_all_set_operators=False)'\n",
      "Költség  : 0.52 $\n",
      "--------------------\n",
      "Összetétel\n",
      "CSIRKE : 0.0 g\n",
      "MARHA : 60.0 g\n",
      "BIRKA : 0.0 g\n",
      "RIZS : 0.0 g\n",
      "KORPA : 0.0 g\n",
      "ZSELATIN : 40.0 g\n",
      "--------------------\n",
      "Tápanyagtartalom\n",
      "feherje : 12.0 g\n",
      "zsir : 6.0 g\n",
      "rost : 0.3 g\n",
      "so : 0.3 g\n"
     ]
    }
   ],
   "source": [
    "# Készítek egy példány a modellből a \"nutrients.dat\" file adataival\n",
    "instance = model.create_instance(filename=\"nutrients.dat\")\n",
    "\n",
    "# Inicializálok egy solvert, ami az Xpresst fogja használni\n",
    "solver = pyo.SolverFactory(\"xpress\")\n",
    "\n",
    "# Megoldom a modellt\n",
    "solver.solve(instance)\n",
    "\n",
    "# Kiírom a költséget, összetételt és tápanyagtartalmat\n",
    "print(\"Költség  :\", instance.cost(), \"$\")\n",
    "print(\"--------------------\")\n",
    "print(\"Összetétel\")\n",
    "for i in instance.I:\n",
    "    print(i, \":\", instance.x[i](), \"g\")\n",
    "print(\"--------------------\")\n",
    "print(\"Tápanyagtartalom\")\n",
    "for j in instance.Nl:\n",
    "    print(j, \":\", instance.nutrientLBConstraint[j](), \"g\")\n",
    "for j in instance.Nu:\n",
    "    print(j, \":\", instance.nutrientUBConstraint[j](), \"g\")"
   ]
  },
  {
   "cell_type": "markdown",
   "id": "ef33b3db",
   "metadata": {},
   "source": [
    "# PuLP\n",
    "\n",
    "A PyOMO-hoz hasonlóan a PuLP is egy modellezésre fejlesztett könyvtár, amely külső solvereket használ az optimalizálási feladat megoldására. Az egyik előnye, hogy a CBC (COIN-OR Branch and Cut) solver, ami egy open source solver, alapértelmezetten települ vele együtt, így nem kell azzal bajlódnunk, hogy telepítsünk további solvereket (de megtehetjük természetesen). Ehhez útmutató: https://coin-or.github.io/pulp/\n",
    "\n",
    "Fontos különbség a Pyomo és a PuLP között, hogy a PuLP-ban minden modell konkrét, illetve nem támogatja nem-lineáris modellek leírását, míg a Pyomo igen.\n",
    "\n",
    "A modell alapegysége itt az `LpProblem`, illetve az `LpVariable` (amire előírható, hogy egészértékű legyen). A modellhez a változókból képzett lineáris kifejezéseket lehet hozzáadni korlátként és célfüggvényként.\n",
    "\n",
    "Nézzük meg a keverési feladatot példaként!"
   ]
  },
  {
   "cell_type": "code",
   "execution_count": 8,
   "id": "188454ea",
   "metadata": {
    "ExecuteTime": {
     "end_time": "2021-10-07T07:33:07.529569Z",
     "start_time": "2021-10-07T07:33:07.513564Z"
    }
   },
   "outputs": [],
   "source": [
    "# Definiálom az összetevőket\n",
    "ingredients = [\"CSIRKE\", \"MARHA\", \"BIRKA\", \"RIZS\", \"KORPA\", \"ZSELATIN\"]\n",
    "\n",
    "# Definiálom a tápanyagokat\n",
    "nutrientsLower = [\"fehérje\", \"zsír\"]\n",
    "nutrientsUpper = [\"rost\", \"só\"]\n",
    "\n",
    "# Definiálom a költségeket\n",
    "costs = {\n",
    "    \"CSIRKE\"  : 0.013,\n",
    "    \"MARHA\"   : 0.008,\n",
    "    \"BIRKA\"   : 0.010,\n",
    "    \"RIZS\"    : 0.002,\n",
    "    \"KORPA\"   : 0.005,\n",
    "    \"ZSELATIN\": 0.001,\n",
    "}\n",
    "\n",
    "nutrientPercentage = {}\n",
    "\n",
    "# Definiálom a tápanyagtartalmakat\n",
    "nutrientPercentage[\"fehérje\"] = {\n",
    "    \"CSIRKE\"  : 0.100,\n",
    "    \"MARHA\"   : 0.200,\n",
    "    \"BIRKA\"   : 0.150,\n",
    "    \"RIZS\"    : 0.000,\n",
    "    \"KORPA\"   : 0.040,\n",
    "    \"ZSELATIN\": 0.000,\n",
    "}\n",
    "\n",
    "nutrientPercentage[\"zsír\"] = {\n",
    "    \"CSIRKE\"  : 0.080,\n",
    "    \"MARHA\"   : 0.100,\n",
    "    \"BIRKA\"   : 0.110,\n",
    "    \"RIZS\"    : 0.010,\n",
    "    \"KORPA\"   : 0.010,\n",
    "    \"ZSELATIN\": 0.000,\n",
    "}\n",
    "\n",
    "nutrientPercentage[\"rost\"] = {\n",
    "    \"CSIRKE\"  : 0.001,\n",
    "    \"MARHA\"   : 0.005,\n",
    "    \"BIRKA\"   : 0.003,\n",
    "    \"RIZS\"    : 0.100,\n",
    "    \"KORPA\"   : 0.150,\n",
    "    \"ZSELATIN\": 0.000,\n",
    "}\n",
    "\n",
    "nutrientPercentage[\"só\"] = {\n",
    "    \"CSIRKE\"  : 0.002,\n",
    "    \"MARHA\"   : 0.005,\n",
    "    \"BIRKA\"   : 0.007,\n",
    "    \"RIZS\"    : 0.002,\n",
    "    \"KORPA\"   : 0.008,\n",
    "    \"ZSELATIN\": 0.000\n",
    "}\n",
    "\n",
    "# Definiálom a tápanyagkorlátokat\n",
    "nutrientBounds = {\n",
    "    \"fehérje\" : 8,\n",
    "    \"zsír\"    : 6,\n",
    "    \"rost\"    : 2,\n",
    "    \"só\"      : 0.4\n",
    "\n",
    "}"
   ]
  },
  {
   "cell_type": "code",
   "execution_count": 33,
   "id": "6659d21f",
   "metadata": {
    "ExecuteTime": {
     "end_time": "2021-10-07T11:32:21.209323Z",
     "start_time": "2021-10-07T11:32:21.147804Z"
    }
   },
   "outputs": [
    {
     "name": "stdout",
     "output_type": "stream",
     "text": [
      "KeverésiProbléma:\n",
      "MINIMIZE\n",
      "0.01*Összetevők_BIRKA + 0.013*Összetevők_CSIRKE + 0.005*Összetevők_KORPA + 0.008*Összetevők_MARHA + 0.002*Összetevők_RIZS + 0.001*Összetevők_ZSELATIN + 0.0\n",
      "SUBJECT TO\n",
      "fehérje: 0.15 Összetevők_BIRKA + 0.1 Összetevők_CSIRKE + 0.04 Összetevők_KORPA\n",
      " + 0.2 Összetevők_MARHA >= 8\n",
      "\n",
      "zsír: 0.11 Összetevők_BIRKA + 0.08 Összetevők_CSIRKE + 0.01 Összetevők_KORPA\n",
      " + 0.1 Összetevők_MARHA + 0.01 Összetevők_RIZS >= 6\n",
      "\n",
      "rost: 0.003 Összetevők_BIRKA + 0.001 Összetevők_CSIRKE + 0.15 Összetevők_KORPA\n",
      " + 0.005 Összetevők_MARHA + 0.1 Összetevők_RIZS <= 2\n",
      "\n",
      "só: 0.007 Összetevők_BIRKA + 0.002 Összetevők_CSIRKE + 0.008 Összetevők_KORPA\n",
      " + 0.005 Összetevők_MARHA + 0.002 Összetevők_RIZS <= 0.4\n",
      "\n",
      "nettó_tömeg: Összetevők_BIRKA + Összetevők_CSIRKE + Összetevők_KORPA\n",
      " + Összetevők_MARHA + Összetevők_RIZS + Összetevők_ZSELATIN = 100\n",
      "\n",
      "VARIABLES\n",
      "Összetevők_BIRKA Continuous\n",
      "Összetevők_CSIRKE Continuous\n",
      "Összetevők_KORPA Continuous\n",
      "Összetevők_MARHA Continuous\n",
      "Összetevők_RIZS Continuous\n",
      "Összetevők_ZSELATIN Continuous\n",
      "\n",
      "Költség: 0.52 $\n",
      "--------------------\n",
      "Összetevők\n",
      "BIRKA : 0.0 g\n",
      "CSIRKE : 0.0 g\n",
      "KORPA : 0.0 g\n",
      "MARHA : 60.0 g\n",
      "RIZS : 0.0 g\n",
      "ZSELATIN : 40.0 g\n",
      "--------------------\n",
      "Tápanyagok\n",
      "fehérje : 12.0 g\n",
      "zsír : 6.0 g\n",
      "rost : 0.30000000000000004 g\n",
      "só : 0.3 g\n"
     ]
    }
   ],
   "source": [
    "import pulp as pl\n",
    "\n",
    "# Inicializálom a modellt, \"KeverésiProbléma\"-nak nevezem el\n",
    "# és előírom hogy minimalizálni fogom a célfüggvényt\n",
    "prob = pl.LpProblem(name=\"KeverésiProbléma\",\n",
    "                    sense=pl.LpMinimize)\n",
    "\n",
    "# Definiálom a változókat, az indexeiket az 'ingredients' listából kapják,\n",
    "# 0 alsó korláttal és mindegyik folytonos\n",
    "x = pl.LpVariable.dicts(name=\"Összetevők\",\n",
    "                        indices=ingredients,\n",
    "                        lowBound=0,\n",
    "                        cat=\"Continuous\") # egészértékű változó esetén \"Integer\" lenne\n",
    "\n",
    "# Költségfüggvény\n",
    "prob += (pl.lpSum(costs[i] * x[i] for i in ingredients), \"költség\")\n",
    "\n",
    "# Alsó korlátok a tápanyagokra\n",
    "for n in nutrientsLower:\n",
    "    prob += (pl.lpSum(nutrientPercentage[n][i] * x[i] for i in ingredients) >= nutrientBounds[n], n)\n",
    "\n",
    "# Felső korlátok a tápanyagokra\n",
    "for n in nutrientsUpper:\n",
    "    prob += (pl.lpSum(nutrientPercentage[n][i] * x[i] for i in ingredients) <= nutrientBounds[n], n)\n",
    "    \n",
    "# Korlát a nettó tömegre\n",
    "prob += (pl.lpSum(x[i] for i in ingredients) == 100, \"nettó tömeg\")\n",
    "\n",
    "# Kiírom a jelenlegi LP-t\n",
    "print(prob)\n",
    "\n",
    "# Megoldom\n",
    "prob.solve()\n",
    "\n",
    "# Kiírom az optimális költséget, összetételt és tápanyagokat\n",
    "print(\"Költség:\", pl.value(prob.objective), \"$\")\n",
    "print(\"--------------------\")\n",
    "print(\"Összetevők\")\n",
    "for v in prob.variables():\n",
    "    print(v.name.split(\"_\")[1], \":\", v.varValue, \"g\")\n",
    "print(\"--------------------\")\n",
    "print(\"Tápanyagok\")    \n",
    "for n in nutrientsLower:\n",
    "    print(n, \":\", pl.value(prob.constraints[n]) + nutrientBounds[n], \"g\")\n",
    "for n in nutrientsUpper:    \n",
    "    print(n, \":\", pl.value(prob.constraints[n]) + nutrientBounds[n], \"g\")"
   ]
  }
 ],
 "metadata": {
  "kernelspec": {
   "display_name": "Python 3 (ipykernel)",
   "language": "python",
   "name": "python3"
  },
  "language_info": {
   "codemirror_mode": {
    "name": "ipython",
    "version": 3
   },
   "file_extension": ".py",
   "mimetype": "text/x-python",
   "name": "python",
   "nbconvert_exporter": "python",
   "pygments_lexer": "ipython3",
   "version": "3.11.8"
  },
  "latex_envs": {
   "LaTeX_envs_menu_present": true,
   "autoclose": true,
   "autocomplete": true,
   "bibliofile": "biblio.bib",
   "cite_by": "apalike",
   "current_citInitial": 1,
   "eqLabelWithNumbers": true,
   "eqNumInitial": 1,
   "hotkeys": {
    "equation": "Ctrl-E",
    "itemize": "Ctrl-I"
   },
   "labels_anchors": false,
   "latex_user_defs": false,
   "report_style_numbering": true,
   "user_envs_cfg": false
  },
  "toc": {
   "base_numbering": 1,
   "nav_menu": {},
   "number_sections": true,
   "sideBar": true,
   "skip_h1_title": false,
   "title_cell": "Table of Contents",
   "title_sidebar": "Contents",
   "toc_cell": false,
   "toc_position": {},
   "toc_section_display": true,
   "toc_window_display": false
  },
  "varInspector": {
   "cols": {
    "lenName": 16,
    "lenType": 16,
    "lenVar": 40
   },
   "kernels_config": {
    "python": {
     "delete_cmd_postfix": "",
     "delete_cmd_prefix": "del ",
     "library": "var_list.py",
     "varRefreshCmd": "print(var_dic_list())"
    },
    "r": {
     "delete_cmd_postfix": ") ",
     "delete_cmd_prefix": "rm(",
     "library": "var_list.r",
     "varRefreshCmd": "cat(var_dic_list()) "
    }
   },
   "types_to_exclude": [
    "module",
    "function",
    "builtin_function_or_method",
    "instance",
    "_Feature"
   ],
   "window_display": false
  }
 },
 "nbformat": 4,
 "nbformat_minor": 5
}
