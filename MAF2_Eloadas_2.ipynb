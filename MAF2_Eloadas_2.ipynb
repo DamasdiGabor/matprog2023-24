{
 "cells": [
  {
   "cell_type": "markdown",
   "metadata": {
    "slideshow": {
     "slide_type": "slide"
    }
   },
   "source": [
    "# Matematikai Algoritmusok és Felfedezések II.\n",
    "\n",
    "## 2. Python csomagok, virtuális környezetek.\n",
    "\n",
    "### 2023 március 07."
   ]
  },
  {
   "cell_type": "markdown",
   "metadata": {
    "slideshow": {
     "slide_type": "subslide"
    }
   },
   "source": [
    "## Kitérő: `PATH` változó\n",
    "\n",
    "Ha el akarunk indítani egy programot, akkor az operációs rendszer alapvetően abban a mappában keresi a programot, ahol kiadtuk az indítási parancsot. Ha szeretnénk, hogy máshol is keressen akkor a `PATH` változóban kell megadni a keresési mappákat."
   ]
  },
  {
   "cell_type": "code",
   "execution_count": null,
   "metadata": {},
   "outputs": [],
   "source": [
    "!echo %PATH%"
   ]
  },
  {
   "cell_type": "code",
   "execution_count": null,
   "metadata": {},
   "outputs": [],
   "source": [
    "!echo %PATH:;=&echo.%"
   ]
  },
  {
   "cell_type": "markdown",
   "metadata": {},
   "source": [
    "Egy pythonosabb megoldás:"
   ]
  },
  {
   "cell_type": "code",
   "execution_count": null,
   "metadata": {},
   "outputs": [],
   "source": [
    "import os\n",
    "os.environ['PATH']"
   ]
  },
  {
   "cell_type": "markdown",
   "metadata": {
    "slideshow": {
     "slide_type": "subslide"
    }
   },
   "source": [
    "### Példa: FFmpeg\n",
    " \n",
    " - FFmpeg egy videó szerkesztéshez használt könyvtár, sok program használja\n",
    " \n",
    " "
   ]
  },
  {
   "cell_type": "markdown",
   "metadata": {
    "slideshow": {
     "slide_type": "subslide"
    }
   },
   "source": [
    "## Programozás Jupyter nélkül\n",
    "\n"
   ]
  },
  {
   "cell_type": "markdown",
   "metadata": {},
   "source": [
    "### Python scriptek\n",
    "\n",
    "Általában a kiterjesztés `.py`\n",
    "\n",
    "Futtatás: `python file.py` vagy `python3 file.py` \n",
    "\n",
    "Eredmény fájlba írása: `python file.py > kimenet.txt`"
   ]
  },
  {
   "cell_type": "markdown",
   "metadata": {
    "slideshow": {
     "slide_type": "-"
    }
   },
   "source": [
    "### Parancssori argumentumokat \n",
    "\n",
    "\n",
    "A sys modult használhatjuk, egy listát kapunk melyhez `sys.argv` módon férhetünk hozzá.\n",
    "\n",
    "\n",
    "A parancssori argumentumokat stringként olvassa be!\n",
    " \n",
    " "
   ]
  },
  {
   "cell_type": "markdown",
   "metadata": {
    "slideshow": {
     "slide_type": "subslide"
    }
   },
   "source": [
    "## Program futatása szerveren\n",
    "- putty: Ingyenes ssh kapcsolatot létrehozó program, ezzel jelentkezhetünk be.\n",
    "- WinSCP: Grafikus bejelentkezés szerverre\n",
    "- Hasznos parancsok: top, kill, nohup\n",
    "- Időzített futtatások: crontab"
   ]
  },
  {
   "cell_type": "markdown",
   "metadata": {
    "slideshow": {
     "slide_type": "subslide"
    }
   },
   "source": [
    "## Saját modul írása\n",
    "\n",
    "Egy `module` semmi más csak egy python script. \n",
    "\n",
    "Egy csomag (`package`) több modulból álló rendszer."
   ]
  },
  {
   "cell_type": "markdown",
   "metadata": {
    "slideshow": {
     "slide_type": "fragment"
    }
   },
   "source": [
    "### Modulok használata\n",
    "\n",
    "#### Module Search Path\n",
    "\n",
    "Nagyjából úgy működik mint a szokásos PATH változó, a megadott helyeken keresi a python modulokat. Három helyen keres:\n",
    "\n",
    "- Az adott mappa\n",
    "- A PYTHONPATH környezeti változóba elmentett mappákban\n",
    "- Python instalálástól függő beállított mappákban\n"
   ]
  },
  {
   "cell_type": "code",
   "execution_count": null,
   "metadata": {
    "slideshow": {
     "slide_type": "subslide"
    }
   },
   "outputs": [],
   "source": [
    "import sys\n",
    "sys.path"
   ]
  },
  {
   "cell_type": "markdown",
   "metadata": {},
   "source": [
    "A 'PYTHONPATH' a PATH változóval azonos módon beállítható. \n",
    "\n",
    "```import os\n",
    "os.environ['PYTHONPATH']```"
   ]
  },
  {
   "cell_type": "markdown",
   "metadata": {
    "slideshow": {
     "slide_type": "subslide"
    }
   },
   "source": [
    "####  `__name__` használata \n",
    "\n",
    "A `__name__` változó a modul nevére állítódik be, kivéve ha közvetlenül a modult futtatjuk. Ekkor `__main__` lesz. Így megadhatunk olyan kódot, ami importáláskor nem fut le:\n",
    "\n",
    "`if __name__ == \"__main__\":`"
   ]
  },
  {
   "cell_type": "markdown",
   "metadata": {
    "slideshow": {
     "slide_type": "slide"
    }
   },
   "source": [
    "## Saját package létrehozás\n",
    "\n",
    "Tutorial: https://packaging.python.org/tutorials/packaging-projects/\n"
   ]
  },
  {
   "cell_type": "markdown",
   "metadata": {
    "slideshow": {
     "slide_type": "subslide"
    }
   },
   "source": [
    "# Virtuális környezetek (virtual environment)\n",
    "https://conda.io/projects/conda/en/latest/user-guide/tasks/manage-environments.html\n",
    "\n",
    "\n",
    "A virtuális környezetek lényege, hogy könnyebben tudjuk a packageket/modulokat rendszerezni és használni. Minden egyes környezetben a többitől függetlenül lehetnek csomagjaink. Így például nem okoz gondot, ha különböző projektek egy adott csomagnak különböző verziót használják.\n",
    "\n",
    "Több lehetőség van környezetek létrehozására, mi most a `conda`-t nézzük meg."
   ]
  },
  {
   "cell_type": "markdown",
   "metadata": {
    "slideshow": {
     "slide_type": "subslide"
    }
   },
   "source": [
    "Alapvetően az `envs` mappába instalálódnak a környezetek."
   ]
  },
  {
   "cell_type": "markdown",
   "metadata": {},
   "source": [
    "- Létrehozás: `!conda create --name korny_nev`\n",
    "\n",
    "- `conda create -n myenv python=3.6 scipy=0.15.0 astroid babel`\n",
    "\n",
    "- Váltás adott környezetre: `conda activate korny_nev`\n",
    "\n",
    "- Kikapcsolás `conda deactivate`\n",
    "\n",
    "- [Cheat sheet](https://docs.conda.io/projects/conda/en/4.6.0/_downloads/52a95608c49671267e40c689e0bc00ca/conda-cheatsheet.pdf)\n"
   ]
  },
  {
   "cell_type": "markdown",
   "metadata": {
    "slideshow": {
     "slide_type": "subslide"
    }
   },
   "source": [
    "Környezetek listája:\n"
   ]
  },
  {
   "cell_type": "code",
   "execution_count": null,
   "metadata": {},
   "outputs": [],
   "source": [
    "!conda env list"
   ]
  },
  {
   "cell_type": "markdown",
   "metadata": {
    "slideshow": {
     "slide_type": "subslide"
    }
   },
   "source": [
    "Adott környezet moduljai:"
   ]
  },
  {
   "cell_type": "code",
   "execution_count": null,
   "metadata": {},
   "outputs": [],
   "source": [
    "!conda list -n myenv"
   ]
  },
  {
   "cell_type": "markdown",
   "metadata": {
    "slideshow": {
     "slide_type": "subslide"
    }
   },
   "source": [
    "Mindeféle egyebeket is lehet, például:\n",
    "\n",
    "- környezet másolása\n",
    "- előre megadott csomagok instalálása\n",
    "- sok gépen azonos környezet létrehozása"
   ]
  },
  {
   "cell_type": "markdown",
   "metadata": {
    "slideshow": {
     "slide_type": "subslide"
    }
   },
   "source": [
    "# Mit tehetek ha mégis egy szokásos \"programot\" szeretnék fordítani?\n",
    "\n",
    "Ez akkor lehet hasznos, ha olyan gépen szeretnénk futtatni, ahol nincs python.\n",
    "\n",
    "`PyInstaller` \n",
    "\n",
    "Használat: \n",
    "\n",
    "`pyinstaller --onefile  myscript.py`"
   ]
  },
  {
   "cell_type": "markdown",
   "metadata": {
    "slideshow": {
     "slide_type": "subslide"
    }
   },
   "source": [
    "# Github"
   ]
  },
  {
   "cell_type": "markdown",
   "metadata": {
    "slideshow": {
     "slide_type": "subslide"
    }
   },
   "source": [
    "<img src=\"filenames.png\" alt=\"Drawing\" style=\"width: 600px;\"/>"
   ]
  },
  {
   "cell_type": "markdown",
   "metadata": {
    "slideshow": {
     "slide_type": "subslide"
    }
   },
   "source": [
    "## Verziókövetés \n",
    "\n",
    "Egy verziókövető rendszer alatt olyan eszözök összeségét értjük, melyek segítségével fájlok állapotának előzményeit tudjuk tárolni. Tehát egy verziókövető rendszer segítségével bármikor elmentheted a fájlaid aktuális állapotát és a korábbi állapotokat bármikor visszaállíthatod. \n",
    "\n",
    "- **Repository:** Egy tároló, ami tartalmazza a munkánk minden korábbi mentett változatát. \n",
    "- **Working directory:** Ahol éppen dolgozunk."
   ]
  },
  {
   "cell_type": "markdown",
   "metadata": {
    "slideshow": {
     "slide_type": "subslide"
    }
   },
   "source": [
    "Az SVN-ek tipikus műveletei: \n",
    "<img src=\"svn.png\" alt=\"Drawing\" style=\"width: 1000px;\"/>"
   ]
  },
  {
   "cell_type": "markdown",
   "metadata": {
    "slideshow": {
     "slide_type": "subslide"
    }
   },
   "source": [
    " - `add`: fájl hozzáadása\n",
    " - `commit`: változtatás fájlokon, a wroking directory állapotát elmenjük a repositoryba\n",
    " - `delete`: fájl törlése\n",
    "    \n",
    "    \n",
    " - `diff`: egy fájl összehasonlítása a repositoryban szereplő verzióval\n",
    " - `status`: egész repository összehasonlítása a working directoryval\n",
    " - `log`: eddigi változtatások listája\n",
    " \n",
    " \n",
    " - `checkout`: working directory létrehozás a repository egy megadott verziója alapján \n",
    " - `update`: a working directory frissítése  a repository alapján\n",
    " - `revert`: a working directory visszaállítása hogy egyező legyen a repository egy megadott állapotával"
   ]
  },
  {
   "cell_type": "markdown",
   "metadata": {
    "slideshow": {
     "slide_type": "subslide"
    }
   },
   "source": [
    "## Elosztott verziókövetés\n",
    "\n",
    "Több repository van, cél, hogy mind ugyanazt tartalmazza. \n",
    "\n",
    "Egy lehetőség, hogy van egy központi repository. Ez többféle gondhoz is vezethet.\n",
    "\n",
    "A Git nem ezt a modelt követi, hanem minden felhasználó rendelkezik a repository teljes másolatával. Így könnyű offline dolgozni, viszont időnként nehéz összehangolni a repositorykat. \n"
   ]
  },
  {
   "cell_type": "markdown",
   "metadata": {
    "slideshow": {
     "slide_type": "subslide"
    }
   },
   "source": [
    "### Git (még nem Hub)\n",
    "\n",
    "Tutorial: https://realpython.com/python-git-github-intro/\n",
    "\n",
    "Interaktív vizualizáció: https://learngitbranching.js.org/"
   ]
  },
  {
   "cell_type": "markdown",
   "metadata": {
    "slideshow": {
     "slide_type": "subslide"
    }
   },
   "source": [
    "\n",
    "<img src=\"https://imgs.xkcd.com/comics/git.png\" alt=\"Drawing\" style=\"width: 400px;\"/>\n"
   ]
  },
  {
   "cell_type": "markdown",
   "metadata": {
    "slideshow": {
     "slide_type": "subslide"
    }
   },
   "source": [
    "### .gitignore\n",
    "\n",
    "A .gitignore egy szöveges fájl amiben megjelölhetjük, hogy mely fájlokat ne vegye figyelembe a git.\n",
    "Például:\n",
    "\n",
    "```\n",
    "__pycache__\n",
    "venv\n",
    "env\n",
    ".pytest_cache\n",
    ".coverage```"
   ]
  },
  {
   "cell_type": "markdown",
   "metadata": {
    "slideshow": {
     "slide_type": "fragment"
    }
   },
   "source": [
    "#### Mit ne adjunk hozzá a repositoryhoz?"
   ]
  },
  {
   "cell_type": "markdown",
   "metadata": {
    "slideshow": {
     "slide_type": "fragment"
    }
   },
   "source": [
    "- Generált fájlokat (Túl nagyon és nem hatékony)\n",
    "- Bizalmas információt. (Néha nem is gondolnál rá!!)"
   ]
  },
  {
   "cell_type": "markdown",
   "metadata": {
    "slideshow": {
     "slide_type": "subslide"
    }
   },
   "source": [
    "## GitHub\n",
    "\n",
    "A gitre épülő rendszer, mely a távoli repositoryk fentartására lehet használni.\n",
    "\n"
   ]
  },
  {
   "cell_type": "markdown",
   "metadata": {
    "slideshow": {
     "slide_type": "fragment"
    }
   },
   "source": [
    "### Dolgozás távoli repositorykal \n",
    "A fő parancsok:\n",
    "\n",
    "- `git clone`  Távoli repository alapján új repository\n",
    "- `git fetch`  Távoli repository alapján megfelelő branchek frissítése\n",
    "- `git pull`   Távoli repository alapján megfelelő branchek frissítése majd merge \n",
    "- `git push`   Távoli repository frissítése saját alapján"
   ]
  }
 ],
 "metadata": {
  "celltoolbar": "Slideshow",
  "kernelspec": {
   "display_name": "Python 3 (ipykernel)",
   "language": "python",
   "name": "python3"
  },
  "language_info": {
   "codemirror_mode": {
    "name": "ipython",
    "version": 3
   },
   "file_extension": ".py",
   "mimetype": "text/x-python",
   "name": "python",
   "nbconvert_exporter": "python",
   "pygments_lexer": "ipython3",
   "version": "3.11.5"
  }
 },
 "nbformat": 4,
 "nbformat_minor": 2
}
